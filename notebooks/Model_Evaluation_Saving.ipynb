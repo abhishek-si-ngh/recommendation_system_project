{
 "cells": [
  {
   "cell_type": "code",
   "execution_count": 1,
   "id": "1e305c3f-e979-4531-8c97-c88e9ef42fa0",
   "metadata": {},
   "outputs": [],
   "source": [
    "from surprise import Dataset, Reader, SVD\n",
    "from surprise.model_selection import train_test_split\n",
    "import pandas as pd\n"
   ]
  },
  {
   "cell_type": "code",
   "execution_count": 2,
   "id": "8708d634-17ed-4ad5-92df-54121b33e88c",
   "metadata": {},
   "outputs": [],
   "source": [
    "# Load ratings\n",
    "column_names = ['user_id', 'item_id', 'rating', 'timestamp']\n",
    "ratings = pd.read_csv('../data/ml-100k/u.data', sep='\\t', names=column_names)"
   ]
  },
  {
   "cell_type": "code",
   "execution_count": 3,
   "id": "636a7fbd-fafc-4a83-860a-dd939cd77c24",
   "metadata": {},
   "outputs": [],
   "source": [
    "# Load movie titles\n",
    "movies = pd.read_csv('../data/ml-100k/u.item', sep='|', encoding='latin-1', header=None)\n",
    "movies = movies[[0, 1]]\n",
    "movies.columns = ['item_id', 'title']"
   ]
  },
  {
   "cell_type": "code",
   "execution_count": 4,
   "id": "6c4ae1e9-b520-4e83-8aa1-8db4278981e8",
   "metadata": {},
   "outputs": [],
   "source": [
    "# Merge data\n",
    "data_merged = pd.merge(ratings, movies, on='item_id')"
   ]
  },
  {
   "cell_type": "code",
   "execution_count": 5,
   "id": "314194c1-f1ef-4224-8070-9c47ab0513cb",
   "metadata": {},
   "outputs": [],
   "source": [
    "# Prepare for Surprise\n",
    "reader = Reader(rating_scale=(1, 5))\n",
    "data = Dataset.load_from_df(data_merged[['user_id', 'item_id', 'rating']], reader)"
   ]
  },
  {
   "cell_type": "code",
   "execution_count": 6,
   "id": "975cbe92-247f-4ea2-9362-8333a6390671",
   "metadata": {},
   "outputs": [
    {
     "data": {
      "text/plain": [
       "<surprise.prediction_algorithms.matrix_factorization.SVD at 0x1e9d4f7b670>"
      ]
     },
     "execution_count": 6,
     "metadata": {},
     "output_type": "execute_result"
    }
   ],
   "source": [
    "# Train on full dataset\n",
    "trainset = data.build_full_trainset()\n",
    "model = SVD()\n",
    "model.fit(trainset)"
   ]
  },
  {
   "cell_type": "code",
   "execution_count": 8,
   "id": "b6aba81f-1234-4cbc-b166-26b78e0b9d0e",
   "metadata": {},
   "outputs": [],
   "source": [
    "import pickle\n",
    "\n",
    "# Save the model to a file\n",
    "with open('../models/svd_model.pkl', 'wb') as f:\n",
    "    pickle.dump(model, f)\n"
   ]
  },
  {
   "cell_type": "code",
   "execution_count": null,
   "id": "ff518e62-b224-4fcd-b82c-0470faf82380",
   "metadata": {},
   "outputs": [],
   "source": []
  }
 ],
 "metadata": {
  "kernelspec": {
   "display_name": "Python 3 (ipykernel)",
   "language": "python",
   "name": "python3"
  },
  "language_info": {
   "codemirror_mode": {
    "name": "ipython",
    "version": 3
   },
   "file_extension": ".py",
   "mimetype": "text/x-python",
   "name": "python",
   "nbconvert_exporter": "python",
   "pygments_lexer": "ipython3",
   "version": "3.10.9"
  }
 },
 "nbformat": 4,
 "nbformat_minor": 5
}

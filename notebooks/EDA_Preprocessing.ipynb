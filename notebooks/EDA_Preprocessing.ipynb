{
 "cells": [
  {
   "cell_type": "code",
   "execution_count": 2,
   "id": "dd73175b-0f39-4c5f-92e3-9eca1f32105e",
   "metadata": {},
   "outputs": [],
   "source": [
    "# === Imports ===\n",
    "import pandas as pd\n",
    "import matplotlib.pyplot as plt\n",
    "import seaborn as sns"
   ]
  },
  {
   "cell_type": "code",
   "execution_count": 3,
   "id": "3982f772-f021-408a-a7ec-f8679fb5763f",
   "metadata": {},
   "outputs": [],
   "source": [
    "# === Load Ratings Data ===\n",
    "column_names = ['user_id', 'item_id', 'rating', 'timestamp']\n",
    "ratings = pd.read_csv('../data/ml-100k/u.data', sep='\\t', names=column_names)"
   ]
  },
  {
   "cell_type": "code",
   "execution_count": 4,
   "id": "c26f2f89-0969-40b9-bf46-dc983037fc28",
   "metadata": {},
   "outputs": [],
   "source": [
    "# === Load Movies Metadata ===\n",
    "movies = pd.read_csv('../data/ml-100k/u.item', sep='|', encoding='latin-1', header=None)\n",
    "movies = movies[[0, 1]]  # Select only item_id and title\n",
    "movies.columns = ['item_id', 'title']"
   ]
  },
  {
   "cell_type": "code",
   "execution_count": 5,
   "id": "832696bc-f803-4851-b922-e9f8b593e211",
   "metadata": {},
   "outputs": [],
   "source": [
    "# === Merge Ratings and Titles ===\n",
    "data = pd.merge(ratings, movies, on='item_id')"
   ]
  },
  {
   "cell_type": "code",
   "execution_count": 6,
   "id": "4e9ab0a1-a1e8-47e8-ae2b-22ccb8c3d027",
   "metadata": {},
   "outputs": [
    {
     "name": "stdout",
     "output_type": "stream",
     "text": [
      "Sample Data:\n",
      "   user_id  item_id  rating  timestamp                       title\n",
      "0      196      242       3  881250949                Kolya (1996)\n",
      "1      186      302       3  891717742    L.A. Confidential (1997)\n",
      "2       22      377       1  878887116         Heavyweights (1994)\n",
      "3      244       51       2  880606923  Legends of the Fall (1994)\n",
      "4      166      346       1  886397596         Jackie Brown (1997)\n"
     ]
    }
   ],
   "source": [
    "# === Preview Data ===\n",
    "print(\"Sample Data:\")\n",
    "print(data.head())"
   ]
  },
  {
   "cell_type": "code",
   "execution_count": 7,
   "id": "b1d11ef6-3797-4254-9537-8706d81c4973",
   "metadata": {},
   "outputs": [
    {
     "name": "stdout",
     "output_type": "stream",
     "text": [
      "\n",
      "Unique users: 943\n",
      "Unique movies: 1682\n"
     ]
    }
   ],
   "source": [
    "# === Unique Users and Movies ===\n",
    "print(\"\\nUnique users:\", data['user_id'].nunique())\n",
    "print(\"Unique movies:\", data['item_id'].nunique())"
   ]
  },
  {
   "cell_type": "code",
   "execution_count": 8,
   "id": "a9e7bc9f-408a-4a31-90a8-d30c63ff17b5",
   "metadata": {},
   "outputs": [
    {
     "name": "stdout",
     "output_type": "stream",
     "text": [
      "\n",
      "Top 10 Most Rated Movies:\n",
      "title\n",
      "Star Wars (1977)                 583\n",
      "Contact (1997)                   509\n",
      "Fargo (1996)                     508\n",
      "Return of the Jedi (1983)        507\n",
      "Liar Liar (1997)                 485\n",
      "English Patient, The (1996)      481\n",
      "Scream (1996)                    478\n",
      "Toy Story (1995)                 452\n",
      "Air Force One (1997)             431\n",
      "Independence Day (ID4) (1996)    429\n",
      "Name: count, dtype: int64\n"
     ]
    }
   ],
   "source": [
    "# === Most Rated Movies ===\n",
    "print(\"\\nTop 10 Most Rated Movies:\")\n",
    "print(data['title'].value_counts().head(10))"
   ]
  },
  {
   "cell_type": "code",
   "execution_count": 9,
   "id": "d9942ac1-55d9-4b73-9da2-7b9417305661",
   "metadata": {},
   "outputs": [
    {
     "data": {
      "image/png": "[encoded data removed]",
      "text/plain": [
       "<Figure size 1000x400 with 1 Axes>"
      ]
     },
     "metadata": {},
     "output_type": "display_data"
    }
   ],
   "source": [
    "# === Ratings Distribution Plot ===\n",
    "plt.figure(figsize=(10, 4))\n",
    "sns.histplot(data['rating'], bins=5, kde=False)\n",
    "plt.title('Ratings Distribution')\n",
    "plt.xlabel('Rating')\n",
    "plt.ylabel('Count')\n",
    "plt.grid(True)\n",
    "plt.tight_layout()\n",
    "plt.show()"
   ]
  },
  {
   "cell_type": "code",
   "execution_count": null,
   "id": "a0e33c02-2599-4919-b68c-d9b23adfa1af",
   "metadata": {},
   "outputs": [],
   "source": []
  }
 ],
 "metadata": {
  "kernelspec": {
   "display_name": "Python 3 (ipykernel)",
   "language": "python",
   "name": "python3"
  },
  "language_info": {
   "codemirror_mode": {
    "name": "ipython",
    "version": 3
   },
   "file_extension": ".py",
   "mimetype": "text/x-python",
   "name": "python",
   "nbconvert_exporter": "python",
   "pygments_lexer": "ipython3",
   "version": "3.10.9"
  }
 },
 "nbformat": 4,
 "nbformat_minor": 5
}

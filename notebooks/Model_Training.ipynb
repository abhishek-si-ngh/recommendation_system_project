{
 "cells": [
  {
   "cell_type": "code",
   "execution_count": 1,
   "id": "b6fda8ac-071b-42ba-86ac-fb3c790cdd95",
   "metadata": {
    "scrolled": true
   },
   "outputs": [],
   "source": [
    "# === Imports ===\n",
    "from surprise import Dataset, Reader, SVD\n",
    "from surprise.model_selection import cross_validate, train_test_split\n",
    "import pandas as pd"
   ]
  },
  {
   "cell_type": "code",
   "execution_count": 2,
   "id": "02228a60-4cf4-431b-8667-2f85f47340b8",
   "metadata": {},
   "outputs": [],
   "source": [
    "# === Load Data Again (from merged ratings + titles) ===\n",
    "column_names = ['user_id', 'item_id', 'rating', 'timestamp']\n",
    "ratings = pd.read_csv('../data/ml-100k/u.data', sep='\\t', names=column_names)"
   ]
  },
  {
   "cell_type": "code",
   "execution_count": 3,
   "id": "7e5bb5c6-9b5a-400b-bc05-21d1c60c194a",
   "metadata": {},
   "outputs": [],
   "source": [
    "# === Define Reader for Surprise ===\n",
    "reader = Reader(rating_scale=(1, 5))"
   ]
  },
  {
   "cell_type": "code",
   "execution_count": 4,
   "id": "bc9742a2-a743-4a91-8987-c3e2f73c7504",
   "metadata": {},
   "outputs": [],
   "source": [
    "# === Load Dataset into Surprise Format ===\n",
    "data = Dataset.load_from_df(ratings[['user_id', 'item_id', 'rating']], reader)"
   ]
  },
  {
   "cell_type": "code",
   "execution_count": 5,
   "id": "8a926a9a-affd-483d-976c-31539835b98c",
   "metadata": {},
   "outputs": [],
   "source": [
    "# === Train-Test Split ===\n",
    "trainset, testset = train_test_split(data, test_size=0.2, random_state=42)"
   ]
  },
  {
   "cell_type": "code",
   "execution_count": 6,
   "id": "ef796fd7-d43c-45aa-87a7-64002ebac37a",
   "metadata": {},
   "outputs": [],
   "source": [
    "# === Initialize SVD Model ===\n",
    "model = SVD()"
   ]
  },
  {
   "cell_type": "code",
   "execution_count": 7,
   "id": "5fd62183-c281-4b68-871c-ac556ef64cce",
   "metadata": {},
   "outputs": [
    {
     "data": {
      "text/plain": [
       "<surprise.prediction_algorithms.matrix_factorization.SVD at 0x170dd9da7a0>"
      ]
     },
     "execution_count": 7,
     "metadata": {},
     "output_type": "execute_result"
    }
   ],
   "source": [
    "# === Train Model ===\n",
    "model.fit(trainset)"
   ]
  },
  {
   "cell_type": "code",
   "execution_count": 8,
   "id": "d8d646a4-059b-42d2-8a9a-98f95ac0e0a7",
   "metadata": {},
   "outputs": [
    {
     "name": "stdout",
     "output_type": "stream",
     "text": [
      "✅ Model training complete!\n"
     ]
    }
   ],
   "source": [
    "print(\"✅ Model training complete!\")"
   ]
  },
  {
   "cell_type": "code",
   "execution_count": 9,
   "id": "14f49e0e-566d-4432-a057-9d15cf953b51",
   "metadata": {},
   "outputs": [
    {
     "name": "stdout",
     "output_type": "stream",
     "text": [
      "Evaluating RMSE, MAE of algorithm SVD on 5 split(s).\n",
      "\n",
      "                  Fold 1  Fold 2  Fold 3  Fold 4  Fold 5  Mean    Std     \n",
      "RMSE (testset)    0.9405  0.9404  0.9341  0.9370  0.9354  0.9375  0.0026  \n",
      "MAE (testset)     0.7399  0.7416  0.7335  0.7361  0.7416  0.7386  0.0032  \n",
      "Fit time          2.68    2.70    2.67    2.71    2.69    2.69    0.01    \n",
      "Test time         0.30    0.40    0.29    0.38    0.27    0.33    0.05    \n"
     ]
    },
    {
     "data": {
      "text/plain": [
       "{'test_rmse': array([0.94054339, 0.94038228, 0.93405158, 0.93704768, 0.93544163]),\n",
       " 'test_mae': array([0.7398703 , 0.74162067, 0.7335333 , 0.73612041, 0.74162602]),\n",
       " 'fit_time': (2.6800949573516846,\n",
       "  2.70141339302063,\n",
       "  2.6742055416107178,\n",
       "  2.7099320888519287,\n",
       "  2.685656785964966),\n",
       " 'test_time': (0.29901671409606934,\n",
       "  0.39967846870422363,\n",
       "  0.291290283203125,\n",
       "  0.3790395259857178,\n",
       "  0.27028536796569824)}"
      ]
     },
     "execution_count": 9,
     "metadata": {},
     "output_type": "execute_result"
    }
   ],
   "source": [
    "from surprise.model_selection import cross_validate\n",
    "\n",
    "# Re-initialize the model\n",
    "svd_model = SVD()\n",
    "\n",
    "# Evaluate with cross-validation (5-fold)\n",
    "cross_validate(svd_model, data, measures=['RMSE', 'MAE'], cv=5, verbose=True)\n"
   ]
  },
  {
   "cell_type": "code",
   "execution_count": null,
   "id": "d6ec0b97-fce0-4e0a-8448-6d6b2e0071da",
   "metadata": {},
   "outputs": [],
   "source": []
  }
 ],
 "metadata": {
  "kernelspec": {
   "display_name": "Python 3 (ipykernel)",
   "language": "python",
   "name": "python3"
  },
  "language_info": {
   "codemirror_mode": {
    "name": "ipython",
    "version": 3
   },
   "file_extension": ".py",
   "mimetype": "text/x-python",
   "name": "python",
   "nbconvert_exporter": "python",
   "pygments_lexer": "ipython3",
   "version": "3.10.9"
  }
 },
 "nbformat": 4,
 "nbformat_minor": 5
}

{
 "cells": [
  {
   "cell_type": "code",
   "execution_count": 4,
   "id": "786cf8bb-d107-4f03-b7c2-6f46befaef39",
   "metadata": {},
   "outputs": [],
   "source": [
    "import pandas as pd\n",
    "from surprise import Dataset, Reader, SVD\n",
    "import pickle\n",
    "\n",
    "# Load merged data again\n",
    "column_names = ['user_id', 'item_id', 'rating', 'timestamp']\n",
    "ratings = pd.read_csv('../data/ml-100k/u.data', sep='\\t', names=column_names)\n",
    "movies = pd.read_csv('../data/ml-100k/u.item', sep='|', encoding='latin-1', header=None)\n",
    "movies = movies[[0, 1]]\n",
    "movies.columns = ['item_id', 'title']\n",
    "data_merged = pd.merge(ratings, movies, on='item_id')\n",
    "\n",
    "# Prepare data for Surprise\n",
    "reader = Reader(rating_scale=(1, 5))\n",
    "data = Dataset.load_from_df(data_merged[['user_id', 'item_id', 'rating']], reader)\n",
    "\n",
    "# Load trained model\n",
    "with open('../models/svd_model.pkl', 'rb') as f:\n",
    "    model = pickle.load(f)\n"
   ]
  },
  {
   "cell_type": "code",
   "execution_count": 5,
   "id": "dad1a3cc-7a44-4d8d-b948-401dd13b4230",
   "metadata": {},
   "outputs": [],
   "source": [
    "from collections import defaultdict\n",
    "\n",
    "def get_top_n(predictions, n=10):\n",
    "    top_n = defaultdict(list)\n",
    "\n",
    "    # Group predictions by user and keep top N items\n",
    "    for uid, iid, true_r, est, _ in predictions:\n",
    "        top_n[uid].append((iid, est))\n",
    "\n",
    "    # Sort and keep only top n per user\n",
    "    for uid, user_ratings in top_n.items():\n",
    "        top_n[uid] = sorted(user_ratings, key=lambda x: x[1], reverse=True)[:n]\n",
    "\n",
    "    return top_n\n"
   ]
  },
  {
   "cell_type": "code",
   "execution_count": 6,
   "id": "d87da921-fdfb-4149-9b92-a25c48703b73",
   "metadata": {},
   "outputs": [
    {
     "data": {
      "text/plain": [
       "<surprise.prediction_algorithms.matrix_factorization.SVD at 0x2345dbcf9a0>"
      ]
     },
     "execution_count": 6,
     "metadata": {},
     "output_type": "execute_result"
    }
   ],
   "source": [
    "trainset = data.build_full_trainset()\n",
    "model.fit(trainset)\n"
   ]
  },
  {
   "cell_type": "code",
   "execution_count": 7,
   "id": "f5b3ec09-8e2a-460e-ae2f-8c4eb361646c",
   "metadata": {},
   "outputs": [],
   "source": [
    "testset = trainset.build_anti_testset()\n",
    "predictions = model.test(testset)\n"
   ]
  },
  {
   "cell_type": "code",
   "execution_count": 8,
   "id": "6f75e169-3789-49ad-8b3f-4ad92023498b",
   "metadata": {},
   "outputs": [],
   "source": [
    "top_n = get_top_n(predictions, n=10)\n"
   ]
  },
  {
   "cell_type": "code",
   "execution_count": 9,
   "id": "3ab5e5e3-93ae-4733-829d-4b9e34ab8d72",
   "metadata": {},
   "outputs": [],
   "source": [
    "item_id_to_title = dict(zip(data_merged['item_id'], data_merged['title']))\n"
   ]
  },
  {
   "cell_type": "code",
   "execution_count": 12,
   "id": "ab7471a9-bef2-4042-948f-fd21423ddbc6",
   "metadata": {},
   "outputs": [
    {
     "name": "stdout",
     "output_type": "stream",
     "text": [
      "Top 10 movie recommendations for user 10:\n",
      "\n",
      "Schindler's List (1993) — predicted rating: 5.00\n",
      "Godfather: Part II, The (1974) — predicted rating: 4.87\n",
      "To Kill a Mockingbird (1962) — predicted rating: 4.85\n",
      "Titanic (1997) — predicted rating: 4.82\n",
      "Arsenic and Old Lace (1944) — predicted rating: 4.74\n",
      "Wrong Trousers, The (1993) — predicted rating: 4.70\n",
      "Good Will Hunting (1997) — predicted rating: 4.68\n",
      "His Girl Friday (1940) — predicted rating: 4.67\n",
      "Raise the Red Lantern (1991) — predicted rating: 4.64\n",
      "Mr. Smith Goes to Washington (1939) — predicted rating: 4.64\n"
     ]
    }
   ],
   "source": [
    "user_id = 10\n",
    "print(f\"Top 10 movie recommendations for user {user_id}:\\n\")\n",
    "for iid, rating in top_n[user_id]:\n",
    "    print(f\"{item_id_to_title[int(iid)]} — predicted rating: {rating:.2f}\")\n"
   ]
  },
  {
   "cell_type": "code",
   "execution_count": null,
   "id": "17281eff-cba9-4fd6-9e0b-f7ec4ed409c4",
   "metadata": {},
   "outputs": [],
   "source": []
  }
 ],
 "metadata": {
  "kernelspec": {
   "display_name": "Python 3 (ipykernel)",
   "language": "python",
   "name": "python3"
  },
  "language_info": {
   "codemirror_mode": {
    "name": "ipython",
    "version": 3
   },
   "file_extension": ".py",
   "mimetype": "text/x-python",
   "name": "python",
   "nbconvert_exporter": "python",
   "pygments_lexer": "ipython3",
   "version": "3.10.9"
  }
 },
 "nbformat": 4,
 "nbformat_minor": 5
}
